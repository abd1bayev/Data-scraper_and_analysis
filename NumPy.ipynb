{
  "cells": [
    {
      "cell_type": "markdown",
      "metadata": {
        "id": "view-in-github",
        "colab_type": "text"
      },
      "source": [
        "<a href=\"https://colab.research.google.com/github/abd1bayev/Data_screper/blob/master/NumPy.ipynb\" target=\"_parent\"><img src=\"https://colab.research.google.com/assets/colab-badge.svg\" alt=\"Open In Colab\"/></a>"
      ]
    },
    {
      "cell_type": "code",
      "execution_count": null,
      "metadata": {
        "id": "JhDJ5Fs_Ycle"
      },
      "outputs": [],
      "source": [
        "import numpy\n",
        "import numpy as np"
      ]
    },
    {
      "cell_type": "code",
      "execution_count": null,
      "metadata": {
        "colab": {
          "base_uri": "https://localhost:8080/"
        },
        "id": "b0dax6lGGImI",
        "outputId": "70fdf391-3c9a-4c5e-f2df-0f40a75bb494"
      },
      "outputs": [
        {
          "output_type": "execute_result",
          "data": {
            "text/plain": [
              "dtype('int64')"
            ]
          },
          "metadata": {},
          "execution_count": 96
        }
      ],
      "source": [
        "a = ([[1, 2, 3, 4], [0, 1, 1, 1], [7, 7, 7, 7]])\n",
        "b = np.array(a)\n",
        "b.dtype"
      ]
    },
    {
      "cell_type": "markdown",
      "metadata": {
        "id": "vT4E1WLbxYbc"
      },
      "source": [
        "NumPy np sifatida\n",
        "NumPy odatda np taxallus ostida import qilinadi.\n",
        "\n",
        "taxallus: Pythonda taxalluslar bir xil narsaga murojaat qilish uchun muqobil nomdir.\n",
        "\n",
        "asImport paytida kalit so'z bilan taxallus yarating :\n",
        "\n",
        "import numpy as np\n",
        "npEndi NumPy to'plamini o'rniga deb atash mumkin numpy.\n",
        "\n"
      ]
    },
    {
      "cell_type": "code",
      "execution_count": null,
      "metadata": {
        "colab": {
          "base_uri": "https://localhost:8080/"
        },
        "id": "wuPsG-RnYcrA",
        "outputId": "d66fe06f-bedf-49a7-b6f0-d23ecd054cb6"
      },
      "outputs": [
        {
          "name": "stdout",
          "output_type": "stream",
          "text": [
            "[1 2 3 4 5]\n"
          ]
        }
      ],
      "source": [
        "# Endi NumPy import qilingan va safarga tayyor.\n",
        "arr = numpy.array([1, 2, 3, 4, 5])\n",
        "print(arr)"
      ]
    },
    {
      "cell_type": "code",
      "execution_count": null,
      "metadata": {
        "id": "3Y1ijr98Ycub"
      },
      "outputs": [],
      "source": [
        "# npEndi NumPy to'plamini o'rniga deb atash mumkin numpy.\n",
        "arr = np.array([1, 2, 3, 4, 5])\n",
        "print(arr)"
      ]
    },
    {
      "cell_type": "code",
      "execution_count": null,
      "metadata": {
        "id": "jYMp9WkSZbbw"
      },
      "outputs": [],
      "source": [
        "# Funktsiyadan foydalanib, biz NumPy ndarrayob'ektini yaratishimiz mumkin array().\n",
        "arr = np.array([1, 2, 3, 4, 5])\n",
        "print(arr)\n",
        "print(type(arr))"
      ]
    },
    {
      "cell_type": "markdown",
      "metadata": {
        "id": "0F0WrkO-xsnX"
      },
      "source": [
        "type(): Ushbu o'rnatilgan Python funktsiyasi bizga unga uzatilgan ob'ekt turini aytadi. Yuqoridagi kodda bo'lgani kabi, arrbu numpy.ndarrayturdagi ekanligini ko'rsatadi."
      ]
    },
    {
      "cell_type": "code",
      "execution_count": null,
      "metadata": {
        "id": "fkikfjrxZtH0"
      },
      "outputs": [],
      "source": [
        "# Qiymati 42 bo'lgan 0 o'lchamli massiv yarating\n",
        "a = np.array(42)\n",
        "print(a)"
      ]
    },
    {
      "cell_type": "code",
      "execution_count": null,
      "metadata": {
        "id": "cBcQyJVUa_HD"
      },
      "outputs": [],
      "source": [
        "# 1,2,3 va 4,5,6 qiymatlari bo'lgan ikkita massivdan iborat ikki o'lchovli massiv yarating:\n",
        "arr = np.array([[1,2,3], [4,5,6]])\n",
        "arr"
      ]
    },
    {
      "cell_type": "code",
      "execution_count": null,
      "metadata": {
        "id": "oz1f2qchb13e"
      },
      "outputs": [],
      "source": [
        "# 1,2,3 va 4,5,6 qiymatlari bo‘lgan ikkita massivni o‘z ichiga olgan ikkita 2D massivli 3D massiv yarating:\n",
        "arr = np.array([[[1,2,3], [4,5,6]], [[1,2,3], [4,5,6]]])\n",
        "print(arr)"
      ]
    },
    {
      "cell_type": "code",
      "execution_count": null,
      "metadata": {
        "colab": {
          "base_uri": "https://localhost:8080/"
        },
        "id": "HTSj7a_5b8vF",
        "outputId": "91e448d5-4097-4f74-e79a-6b3d44613573"
      },
      "outputs": [
        {
          "name": "stdout",
          "output_type": "stream",
          "text": [
            "0\n",
            "1\n",
            "2\n",
            "1\n"
          ]
        },
        {
          "name": "stderr",
          "output_type": "stream",
          "text": [
            "/usr/local/lib/python3.7/dist-packages/ipykernel_launcher.py:5: VisibleDeprecationWarning: Creating an ndarray from ragged nested sequences (which is a list-or-tuple of lists-or-tuples-or ndarrays with different lengths or shapes) is deprecated. If you meant to do this, you must specify 'dtype=object' when creating the ndarray.\n",
            "  \"\"\"\n"
          ]
        }
      ],
      "source": [
        "# Massivlar qancha o'lchamga ega ekanligini tekshiring:\n",
        "a = np.array(42)\n",
        "b = np.array([1,2,3,4,5])\n",
        "c = np.array([[1,2,3], [4,5,6]])\n",
        "d = np.array([[[1,2,3], 4,5,6], [[1,2,3], [4,5,6]]])\n",
        "print(a.ndim)\n",
        "print(b.ndim)\n",
        "print(c.ndim)\n",
        "print(d.ndim)"
      ]
    },
    {
      "cell_type": "code",
      "execution_count": null,
      "metadata": {
        "colab": {
          "base_uri": "https://localhost:8080/"
        },
        "id": "9leMWV2Ib8rL",
        "outputId": "8498dad5-af55-4bec-fa72-2e972770e258"
      },
      "outputs": [
        {
          "name": "stdout",
          "output_type": "stream",
          "text": [
            "[[[[[1 2 3 4]]]]]\n",
            "olchamlar soni: 5\n"
          ]
        }
      ],
      "source": [
        "# 5 o'lchovli massiv yarating va uning 5 o'lchovli ekanligini tekshiring:\n",
        "arr = np.array([1,2,3,4], ndmin=5)\n",
        "print(arr)\n",
        "print('olchamlar soni:', arr.ndim)"
      ]
    },
    {
      "cell_type": "code",
      "execution_count": null,
      "metadata": {
        "colab": {
          "base_uri": "https://localhost:8080/"
        },
        "id": "polpm0dhb8nA",
        "outputId": "dff67ac5-c572-4bef-d35e-1710563a2cb2"
      },
      "outputs": [
        {
          "name": "stdout",
          "output_type": "stream",
          "text": [
            "1\n"
          ]
        }
      ],
      "source": [
        "# NumPy massivini indekslash\n",
        "# Quyidagi massivdan birinchi elementni oling:\n",
        "arr = np.array([1,2,3,4])\n",
        "print(arr[0])"
      ]
    },
    {
      "cell_type": "code",
      "execution_count": null,
      "metadata": {
        "colab": {
          "base_uri": "https://localhost:8080/"
        },
        "id": "MsqllWdWb8ik",
        "outputId": "b8714d35-9902-499b-c91d-3d328e26045e"
      },
      "outputs": [
        {
          "name": "stdout",
          "output_type": "stream",
          "text": [
            "2\n"
          ]
        }
      ],
      "source": [
        "# Quyidagi massivdan ikkinchi elementni oling.\n",
        "arr = np.array([1,2,3,4])\n",
        "print(arr[1])"
      ]
    },
    {
      "cell_type": "code",
      "execution_count": null,
      "metadata": {
        "colab": {
          "base_uri": "https://localhost:8080/"
        },
        "id": "pvhg6QulVleb",
        "outputId": "f0137bf9-4784-4a89-9f86-56c563d220d4"
      },
      "outputs": [
        {
          "name": "stdout",
          "output_type": "stream",
          "text": [
            "7\n"
          ]
        }
      ],
      "source": [
        "# Quyidagi massivdan uchinchi va to‘rtinchi elementlarni oling va ularni qo‘shing.\n",
        "arr = np.array([1, 2, 3, 4, 5])\n",
        "print(arr[2] + arr[3])"
      ]
    },
    {
      "cell_type": "code",
      "execution_count": null,
      "metadata": {
        "colab": {
          "base_uri": "https://localhost:8080/"
        },
        "id": "gvUYoa4fVliU",
        "outputId": "bfb5293b-13e2-4289-fbd7-f026e50af375"
      },
      "outputs": [
        {
          "name": "stdout",
          "output_type": "stream",
          "text": [
            "1-qatordagi 2-element: 2\n"
          ]
        }
      ],
      "source": [
        "# Birinchi qator, ikkinchi ustundagi elementga kiring:\n",
        "arr = np.array([[1,2,3,4,5], [6,7,8,9,10]])\n",
        "print('1-qatordagi 2-element:', arr[0, 1])"
      ]
    },
    {
      "cell_type": "markdown",
      "metadata": {
        "id": "Wan1IVDtyITK"
      },
      "source": [
        "2-D massivlariga kirish\n",
        "2 oʻlchamli massivlar elementlariga kirish uchun elementning oʻlchami va indeksini ifodalovchi vergul bilan ajratilgan butun sonlardan foydalanishimiz mumkin.\n",
        "\n",
        "Ikki o'lchovli massivlarni satr va ustunlardan iborat jadval kabi o'ylab ko'ring, bu erda satr o'lchamni va indeks ustunni ifodalaydi.\n",
        "\n"
      ]
    },
    {
      "cell_type": "code",
      "execution_count": null,
      "metadata": {
        "colab": {
          "base_uri": "https://localhost:8080/"
        },
        "id": "YcytDdU1i5q9",
        "outputId": "ccc9ebfe-4e01-4d4d-bbcb-ca0c47ec4ba6"
      },
      "outputs": [
        {
          "name": "stdout",
          "output_type": "stream",
          "text": [
            "6\n"
          ]
        }
      ],
      "source": [
        "# Birinchi massivning ikkinchi massivining uchinchi elementiga kirish:\n",
        "arr = np.array([[[1,2,3], [4,5,6]], [[7,8,9], [10,11,12]]])\n",
        "print(arr[0,1,2])"
      ]
    },
    {
      "cell_type": "markdown",
      "metadata": {
        "id": "iLDj9h7gyPf6"
      },
      "source": [
        "3-D massivlariga kirish\n",
        "3 o'lchamli massivlar elementlariga kirish uchun biz elementning o'lchamlari va indeksini ifodalovchi vergul bilan ajratilgan butun sonlardan foydalanishimiz mumkin.\n",
        "\n"
      ]
    },
    {
      "cell_type": "markdown",
      "metadata": {
        "id": "Mg7W0OFGx6Z_"
      },
      "source": [
        "Misol tushuntirildi\n",
        "arr[0, 1, 2]qiymatni chop etadi 6.\n",
        "\n",
        "Va shuning uchun:\n",
        "\n",
        "Birinchi raqam ikkita massivni o'z ichiga olgan birinchi o'lchamni ifodalaydi:\n",
        "[[1, 2, 3], [4, 5, 6]]\n",
        "va:\n",
        "[[7, 8, 9], [10, 11, 12]]\n",
        "Chunki ni tanladik 0, bizda birinchi massiv qoldi:\n",
        "[[1, 2, 3], [4, 5, 6]]\n",
        "\n",
        "Ikkinchi raqam ikkinchi massivni ifodalaydi, u ham ikkita massivni o'z ichiga oladi:\n",
        "[1, 2, 3]\n",
        "va:\n",
        "[4, 5, 6] ni\n",
        "tanlaganimiz 1uchun bizda ikkinchi massiv qoladi:\n",
        "[4, 5, 6]\n",
        "\n",
        "Uchinchi raqam uchta qiymatni o'z ichiga olgan uchinchi o'lchovni ifodalaydi:\n",
        "4\n",
        "5\n",
        "6\n",
        "ni tanlaganimiz 2uchun biz uchinchi qiymatga erishamiz:\n",
        "6"
      ]
    },
    {
      "cell_type": "code",
      "execution_count": null,
      "metadata": {
        "colab": {
          "base_uri": "https://localhost:8080/"
        },
        "id": "hRhVQ_mvj-9W",
        "outputId": "9623cfbd-9852-4ba8-d316-32c99efab2f4"
      },
      "outputs": [
        {
          "name": "stdout",
          "output_type": "stream",
          "text": [
            "2-chi xiralikdagi oxirgi element: 10\n"
          ]
        }
      ],
      "source": [
        "# Ikkinchi xiralikdan oxirgi elementni chop eting:\n",
        "arr = np.array([[1,2,3,4,5], [6,7,8,9,10]])\n",
        "print('2-chi xiralikdagi oxirgi element:', arr[1, -1])"
      ]
    },
    {
      "cell_type": "markdown",
      "metadata": {
        "id": "h3pt58XryepX"
      },
      "source": [
        "Massivlarni kesish\n",
        "Pythonda tilimlash bir berilgan indeksdan boshqa indeksga elementlarni olishni anglatadi.\n",
        "\n",
        "Indeks o'rniga tilimni quyidagicha o'tkazamiz: .[start:end]\n",
        "\n",
        "Biz qadamni quyidagicha belgilashimiz mumkin: .[start:end:step]\n",
        "\n",
        "Agar biz o'tmagan bo'lsak, uni 0 deb hisoblaymiz\n",
        "\n",
        "Agar biz ushbu o'lchamdagi massivning ko'rib chiqilgan uzunligini tugatmasak\n",
        "\n",
        "Agar biz qadamni o'ta olmasak, u 1 deb hisoblanadi"
      ]
    },
    {
      "cell_type": "code",
      "execution_count": null,
      "metadata": {
        "id": "TN_qemxIVll-"
      },
      "outputs": [],
      "source": [
        "# Quyidagi massivdan indeks 1 dan 5 gacha bo'lgan elementlarni ajrating:\n",
        "a = np.array([1,2,3,4,5,6,7])\n",
        "print(a[1:5])"
      ]
    },
    {
      "cell_type": "markdown",
      "metadata": {
        "id": "mT_IPtWnyqMr"
      },
      "source": [
        "Eslatma: Natija boshlang'ich indeksini o'z ichiga oladi , lekin yakuniy indeksni o'z ichiga olmaydi ."
      ]
    },
    {
      "cell_type": "code",
      "execution_count": null,
      "metadata": {
        "id": "bVDJnAX-ZbfM"
      },
      "outputs": [],
      "source": [
        "# Elementlarni 4-indeksdan massiv oxirigacha bo'laklarga bo'ling:\n",
        "a = np.array([1,2,3,4,5,6,7])\n",
        "print(a[4:])"
      ]
    },
    {
      "cell_type": "code",
      "execution_count": null,
      "metadata": {
        "id": "GCvA-jM7Zbik"
      },
      "outputs": [],
      "source": [
        "# Elementlarni boshidan 4-indeksgacha bo'ling (qo'shilmaydi):\n",
        "a = np.array([1,2,3,4,5,6,7])\n",
        "print(a[:4])"
      ]
    },
    {
      "cell_type": "markdown",
      "metadata": {
        "id": "vq_BeAlyy1nY"
      },
      "source": [
        "Salbiy kesish\n",
        "Oxirgi indeksga murojaat qilish uchun minus operatoridan foydalaning:"
      ]
    },
    {
      "cell_type": "code",
      "execution_count": null,
      "metadata": {
        "id": "VcW1ikZzYQ7W"
      },
      "outputs": [],
      "source": [
        "# Salbiy kesish\n",
        "# 3-indeksning oxiridan 1-indeksgacha kesing:\n",
        "a = np.array([1,2,3,4,5,6,7])\n",
        "print(a[-3:-1])"
      ]
    },
    {
      "cell_type": "markdown",
      "metadata": {
        "id": "F-0QRJaVy6FB"
      },
      "source": [
        "QADAM\n",
        "stepKesish bosqichini aniqlash uchun qiymatdan foydalaning :"
      ]
    },
    {
      "cell_type": "code",
      "execution_count": null,
      "metadata": {
        "id": "tkiWBRihYQ-t"
      },
      "outputs": [],
      "source": [
        "# QADAM\n",
        "# Indeks 1 dan indeks 5 gacha bo'lgan har bir boshqa elementni qaytaring:\n",
        "arr = np.array([1,2,3,4,5,6,7])\n",
        "print(arr[1:5:2])"
      ]
    },
    {
      "cell_type": "code",
      "execution_count": null,
      "metadata": {
        "id": "v_VurZSUYRB3"
      },
      "outputs": [],
      "source": [
        "# Butun massivdan boshqa har bir elementni qaytaring:\n",
        "arr = np.array([1,2,3,4,5,6,7])\n",
        "print(arr[::2])"
      ]
    },
    {
      "cell_type": "markdown",
      "metadata": {
        "id": "1boTxuECzAim"
      },
      "source": [
        "## ***2-D massivlarni kesish***\n",
        "\n"
      ]
    },
    {
      "cell_type": "code",
      "execution_count": null,
      "metadata": {
        "colab": {
          "base_uri": "https://localhost:8080/"
        },
        "id": "fj52Y4W3YRFP",
        "outputId": "24896b8e-ea0f-4f21-c514-d618750fb65a"
      },
      "outputs": [
        {
          "name": "stdout",
          "output_type": "stream",
          "text": [
            "[7 8 9]\n"
          ]
        }
      ],
      "source": [
        "# Ikkinchi elementdan 1-indeksdan 4-indeksgacha bo'lgan elementlarni kesib oling (qo'shilmagan):\n",
        "arr = np.array([[1,2,3,4,5], [6,7,8,9,10]])\n",
        "print(arr[1, 1:4])"
      ]
    },
    {
      "cell_type": "markdown",
      "metadata": {
        "id": "ZX4oOSsGzEaK"
      },
      "source": [
        "Eslatma: Esda tutingki, ikkinchi element indeks 1 ga ega."
      ]
    },
    {
      "cell_type": "code",
      "execution_count": null,
      "metadata": {
        "colab": {
          "base_uri": "https://localhost:8080/"
        },
        "id": "yZs9Tg2aYRIn",
        "outputId": "39be8be3-ff3b-47cb-ed21-bf4ce2b904fd"
      },
      "outputs": [
        {
          "name": "stdout",
          "output_type": "stream",
          "text": [
            "[3 8]\n"
          ]
        }
      ],
      "source": [
        "# Ikkala elementdan indeks 2 ni qaytaring:\n",
        "arr = np.array([[1,2,3,4,5], [6,7,8,9,10]])\n",
        "print(arr[0:2, 2])"
      ]
    },
    {
      "cell_type": "markdown",
      "metadata": {
        "id": "H61aBBNozhXD"
      },
      "source": [
        "Python-da ma'lumotlar turlari\n",
        "Odatiy bo'lib Python quyidagi ma'lumotlar turlariga ega:\n",
        "\n",
        "strings- matn ma'lumotlarini ifodalash uchun ishlatiladi, matn tirnoq ostida beriladi. masalan, \"ABCD\"\n",
        "integer- butun sonlarni ifodalash uchun ishlatiladi. masalan -1, -2, -3\n",
        "float- haqiqiy sonlarni ifodalash uchun ishlatiladi. masalan, 1.2, 42.42\n",
        "boolean- True yoki False ifodalash uchun ishlatiladi.\n",
        "complex- kompleks sonlarni ifodalash uchun ishlatiladi. masalan, 1,0 + 2,0j, 1,5 + 2,5j\n",
        "NumPy-da ma'lumotlar turlari\n",
        "NumPy-da ba'zi qo'shimcha ma'lumotlar turlari mavjud va bitta belgili ma'lumotlar turlariga murojaat qiling, masalan i, butun sonlar, ubelgisiz tamsayılar va hokazo.\n",
        "\n",
        "Quyida NumPy-dagi barcha ma'lumotlar turlari va ularni ifodalash uchun ishlatiladigan belgilar ro'yxati keltirilgan.\n",
        "\n",
        "i- butun son\n",
        "b- mantiqiy\n",
        "u- belgisiz butun son\n",
        "f- suzuvchi\n",
        "c- murakkab float\n",
        "m- vaqt deltasi\n",
        "M- sana vaqti\n",
        "O- ob'ekt\n",
        "S- ip\n",
        "U- unicode string\n",
        "V- boshqa turdagi xotiraning qattiq qismi (bo'sh)\n",
        "Massivning ma'lumotlar turini tekshirish\n",
        "NumPy massivi obyekti massivning dtype ma’lumotlar turini qaytaradigan xususiyatga ega:\n",
        "\n"
      ]
    },
    {
      "cell_type": "markdown",
      "metadata": {
        "id": "zFwmBLJ8xPTt"
      },
      "source": [
        ""
      ]
    },
    {
      "cell_type": "code",
      "execution_count": null,
      "metadata": {
        "colab": {
          "base_uri": "https://localhost:8080/"
        },
        "id": "wXAHNVWaw-Mn",
        "outputId": "bcbf8346-b6f3-49a3-ee2f-f29994584174"
      },
      "outputs": [
        {
          "name": "stdout",
          "output_type": "stream",
          "text": [
            "int64\n"
          ]
        }
      ],
      "source": [
        "# Massiv ob'ektining ma'lumotlar turini oling:\n",
        "arr = np.array([1,2,3,4])\n",
        "print(arr.dtype)"
      ]
    },
    {
      "cell_type": "code",
      "execution_count": null,
      "metadata": {
        "colab": {
          "base_uri": "https://localhost:8080/"
        },
        "id": "7qRQaRkXw-aq",
        "outputId": "cb9638f6-448b-4ca6-fce2-c07302a2be54"
      },
      "outputs": [
        {
          "name": "stdout",
          "output_type": "stream",
          "text": [
            "<U6\n"
          ]
        }
      ],
      "source": [
        "# Satrlarni o'z ichiga olgan massivning ma'lumotlar turini oling:\n",
        "arr = np.array(['apple', 'banana', 'cherry'])\n",
        "print(arr.dtype)"
      ]
    },
    {
      "cell_type": "markdown",
      "metadata": {
        "id": "9QxIXWD30qyx"
      },
      "source": [
        "Biz array()massivlarni yaratish uchun funksiyadan foydalanamiz, bu funksiya ixtiyoriy argumentni olishi mumkin: dtype bu bizga massiv elementlarining kutilayotgan ma’lumotlar turini aniqlash imkonini beradi:"
      ]
    },
    {
      "cell_type": "code",
      "execution_count": null,
      "metadata": {
        "id": "vDp_EIWAw-ht"
      },
      "outputs": [],
      "source": [
        "# Ma'lumotlar turi qatori bilan massiv yarating:\n",
        "arr = np.array([1,2,3,4], dtype='S')\n",
        "print(arr)\n",
        "print(arr.dtype)"
      ]
    },
    {
      "cell_type": "markdown",
      "metadata": {
        "id": "QxHPjoOY1Tub"
      },
      "source": [
        "i, u, uchun fva biz o'lchamni Sham Ubelgilashimiz mumkin."
      ]
    },
    {
      "cell_type": "code",
      "execution_count": null,
      "metadata": {
        "id": "xIVfXvMHw-lW"
      },
      "outputs": [],
      "source": [
        "import numpy as np"
      ]
    },
    {
      "cell_type": "code",
      "execution_count": null,
      "metadata": {
        "id": "RjkT3RXlw-og",
        "colab": {
          "base_uri": "https://localhost:8080/"
        },
        "outputId": "efe62901-0044-4527-a388-0235162bf4c5"
      },
      "outputs": [
        {
          "output_type": "execute_result",
          "data": {
            "text/plain": [
              "array([[ True,  True,  True],\n",
              "       [ True,  True,  True],\n",
              "       [ True,  True,  True]])"
            ]
          },
          "metadata": {},
          "execution_count": 6
        }
      ],
      "source": [
        "np.full((3, 3), True, dtype=bool)"
      ]
    },
    {
      "cell_type": "code",
      "execution_count": null,
      "metadata": {
        "id": "NNEZ0d9ow-u_",
        "colab": {
          "base_uri": "https://localhost:8080/"
        },
        "outputId": "922d976e-3c82-443a-ffa9-7d74226d70e6"
      },
      "outputs": [
        {
          "output_type": "execute_result",
          "data": {
            "text/plain": [
              "array([1, 3, 5, 7, 9])"
            ]
          },
          "metadata": {},
          "execution_count": 7
        }
      ],
      "source": [
        "arr = np.array([0,1,2,3,4,5,6,7,8,9])\n",
        "arr[arr % 2 ==1]"
      ]
    },
    {
      "cell_type": "code",
      "execution_count": null,
      "metadata": {
        "id": "mcFv9WmYw-7w",
        "colab": {
          "base_uri": "https://localhost:8080/"
        },
        "outputId": "70ebc442-6a52-43be-d83c-9be65c0a3b0b"
      },
      "outputs": [
        {
          "output_type": "execute_result",
          "data": {
            "text/plain": [
              "array([ 0, -1,  2, -1,  4, -1,  6, -1,  8, -1])"
            ]
          },
          "metadata": {},
          "execution_count": 8
        }
      ],
      "source": [
        "arr[arr%2==1] = -1\n",
        "arr"
      ]
    },
    {
      "cell_type": "code",
      "execution_count": null,
      "metadata": {
        "id": "k-dnhWDww-_J",
        "colab": {
          "base_uri": "https://localhost:8080/"
        },
        "outputId": "5788ca46-e921-4c8e-c066-cbf711259c7e"
      },
      "outputs": [
        {
          "output_type": "execute_result",
          "data": {
            "text/plain": [
              "array([[ 0,  1,  2,  3],\n",
              "       [ 4,  5,  6,  7],\n",
              "       [ 8,  9, 10, 11]])"
            ]
          },
          "metadata": {},
          "execution_count": 12
        }
      ],
      "source": [
        "arr = np.arange(12)\n",
        "arr\n",
        "arr.reshape(3, -1)"
      ]
    },
    {
      "cell_type": "code",
      "execution_count": null,
      "metadata": {
        "id": "zmhVOBO4w_DD"
      },
      "outputs": [],
      "source": [
        "a = np.arange  "
      ]
    },
    {
      "cell_type": "code",
      "execution_count": null,
      "metadata": {
        "id": "BDIVfVS-w_Gc"
      },
      "outputs": [],
      "source": [
        ""
      ]
    },
    {
      "cell_type": "code",
      "execution_count": null,
      "metadata": {
        "id": "EO6nS1M4w_KG"
      },
      "outputs": [],
      "source": [
        ""
      ]
    }
  ],
  "metadata": {
    "colab": {
      "name": "NumPy",
      "provenance": [],
      "collapsed_sections": [
        "1boTxuECzAim"
      ],
      "authorship_tag": "ABX9TyNhJvvSWRER5sT45FwG8hZF",
      "include_colab_link": true
    },
    "kernelspec": {
      "display_name": "Python 3",
      "name": "python3"
    },
    "language_info": {
      "name": "python"
    }
  },
  "nbformat": 4,
  "nbformat_minor": 0
}